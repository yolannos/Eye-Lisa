{
 "cells": [
  {
   "cell_type": "code",
   "execution_count": 1,
   "metadata": {},
   "outputs": [
    {
     "data": {
      "text/html": [
       "<div>\n",
       "<style scoped>\n",
       "    .dataframe tbody tr th:only-of-type {\n",
       "        vertical-align: middle;\n",
       "    }\n",
       "\n",
       "    .dataframe tbody tr th {\n",
       "        vertical-align: top;\n",
       "    }\n",
       "\n",
       "    .dataframe thead th {\n",
       "        text-align: right;\n",
       "    }\n",
       "</style>\n",
       "<table border=\"1\" class=\"dataframe\">\n",
       "  <thead>\n",
       "    <tr style=\"text-align: right;\">\n",
       "      <th></th>\n",
       "      <th>Unnamed: 0</th>\n",
       "      <th>Url</th>\n",
       "      <th>Source</th>\n",
       "      <th>Locality</th>\n",
       "      <th>Type of property</th>\n",
       "      <th>Subtype of property</th>\n",
       "      <th>Price</th>\n",
       "      <th>Type of sale</th>\n",
       "      <th>Number of rooms</th>\n",
       "      <th>Area</th>\n",
       "      <th>...</th>\n",
       "      <th>Terrace Area</th>\n",
       "      <th>Garden</th>\n",
       "      <th>Garden Area</th>\n",
       "      <th>Surface of the land</th>\n",
       "      <th>Surface area of the plot of land</th>\n",
       "      <th>Number of facades</th>\n",
       "      <th>Swimming pool</th>\n",
       "      <th>State of the building</th>\n",
       "      <th>Province</th>\n",
       "      <th>Region</th>\n",
       "    </tr>\n",
       "  </thead>\n",
       "  <tbody>\n",
       "    <tr>\n",
       "      <th>2871</th>\n",
       "      <td>2871</td>\n",
       "      <td>https://www.logic-immo.be/fr/vente/appartements-a-vendre/essen-2910/duplex-3-chambres-512793e4-366e-635c-9bd2-b95cb9d31f4a.html</td>\n",
       "      <td>logic-immo.be</td>\n",
       "      <td>2910</td>\n",
       "      <td>apartment</td>\n",
       "      <td>duplex</td>\n",
       "      <td>314999.0</td>\n",
       "      <td>regular sale</td>\n",
       "      <td>3.0</td>\n",
       "      <td>206.0</td>\n",
       "      <td>...</td>\n",
       "      <td>20.0</td>\n",
       "      <td>1.0</td>\n",
       "      <td>340.0</td>\n",
       "      <td>340.0</td>\n",
       "      <td>340.0</td>\n",
       "      <td>NaN</td>\n",
       "      <td>0.0</td>\n",
       "      <td>NaN</td>\n",
       "      <td>Antwerp</td>\n",
       "      <td>Vlaams</td>\n",
       "    </tr>\n",
       "    <tr>\n",
       "      <th>13172</th>\n",
       "      <td>13172</td>\n",
       "      <td>https://www.logic-immo.be/fr/vente/maisons-a-vendre/essen-2910/maison--511b5f1a-c41a-7a36-939e-1eb18c443549.html</td>\n",
       "      <td>logic-immo.be</td>\n",
       "      <td>2910</td>\n",
       "      <td>house</td>\n",
       "      <td>NaN</td>\n",
       "      <td>NaN</td>\n",
       "      <td>regular sale</td>\n",
       "      <td>NaN</td>\n",
       "      <td>NaN</td>\n",
       "      <td>...</td>\n",
       "      <td>NaN</td>\n",
       "      <td>0.0</td>\n",
       "      <td>NaN</td>\n",
       "      <td>NaN</td>\n",
       "      <td>NaN</td>\n",
       "      <td>NaN</td>\n",
       "      <td>0.0</td>\n",
       "      <td>NaN</td>\n",
       "      <td>Antwerp</td>\n",
       "      <td>Vlaams</td>\n",
       "    </tr>\n",
       "    <tr>\n",
       "      <th>13173</th>\n",
       "      <td>13173</td>\n",
       "      <td>https://www.logic-immo.be/fr/vente/maisons-a-vendre/essen-2910/villa-3-chambres-1762b2a7-c112-ade4-3488-f825db8d6f21.html</td>\n",
       "      <td>logic-immo.be</td>\n",
       "      <td>2910</td>\n",
       "      <td>house</td>\n",
       "      <td>villa</td>\n",
       "      <td>494999.0</td>\n",
       "      <td>regular sale</td>\n",
       "      <td>3.0</td>\n",
       "      <td>240.0</td>\n",
       "      <td>...</td>\n",
       "      <td>NaN</td>\n",
       "      <td>1.0</td>\n",
       "      <td>700.0</td>\n",
       "      <td>927.0</td>\n",
       "      <td>927.0</td>\n",
       "      <td>NaN</td>\n",
       "      <td>0.0</td>\n",
       "      <td>NaN</td>\n",
       "      <td>Antwerp</td>\n",
       "      <td>Vlaams</td>\n",
       "    </tr>\n",
       "    <tr>\n",
       "      <th>23596</th>\n",
       "      <td>23596</td>\n",
       "      <td>https://www.immoweb.be/fr/annonce/triplex/a-vendre/essen/2910/9114772</td>\n",
       "      <td>immoweb</td>\n",
       "      <td>2910</td>\n",
       "      <td>apartment</td>\n",
       "      <td>triplex</td>\n",
       "      <td>315000.0</td>\n",
       "      <td>regular sale</td>\n",
       "      <td>4.0</td>\n",
       "      <td>206.0</td>\n",
       "      <td>...</td>\n",
       "      <td>12.0</td>\n",
       "      <td>1.0</td>\n",
       "      <td>340.0</td>\n",
       "      <td>NaN</td>\n",
       "      <td>NaN</td>\n",
       "      <td>NaN</td>\n",
       "      <td>0.0</td>\n",
       "      <td>good</td>\n",
       "      <td>Antwerp</td>\n",
       "      <td>Vlaams</td>\n",
       "    </tr>\n",
       "    <tr>\n",
       "      <th>25676</th>\n",
       "      <td>25676</td>\n",
       "      <td>https://www.immoweb.be/fr/annonce/appartement/a-vendre/essen/2910/9236086</td>\n",
       "      <td>immoweb</td>\n",
       "      <td>2910</td>\n",
       "      <td>apartment</td>\n",
       "      <td>NaN</td>\n",
       "      <td>189000.0</td>\n",
       "      <td>regular sale</td>\n",
       "      <td>2.0</td>\n",
       "      <td>88.0</td>\n",
       "      <td>...</td>\n",
       "      <td>10.0</td>\n",
       "      <td>0.0</td>\n",
       "      <td>NaN</td>\n",
       "      <td>NaN</td>\n",
       "      <td>NaN</td>\n",
       "      <td>2.0</td>\n",
       "      <td>0.0</td>\n",
       "      <td>good</td>\n",
       "      <td>Antwerp</td>\n",
       "      <td>Vlaams</td>\n",
       "    </tr>\n",
       "  </tbody>\n",
       "</table>\n",
       "<p>5 rows × 24 columns</p>\n",
       "</div>"
      ],
      "text/plain": [
       "       Unnamed: 0  \\\n",
       "2871         2871   \n",
       "13172       13172   \n",
       "13173       13173   \n",
       "23596       23596   \n",
       "25676       25676   \n",
       "\n",
       "                                                                                                                                   Url  \\\n",
       "2871   https://www.logic-immo.be/fr/vente/appartements-a-vendre/essen-2910/duplex-3-chambres-512793e4-366e-635c-9bd2-b95cb9d31f4a.html   \n",
       "13172                 https://www.logic-immo.be/fr/vente/maisons-a-vendre/essen-2910/maison--511b5f1a-c41a-7a36-939e-1eb18c443549.html   \n",
       "13173        https://www.logic-immo.be/fr/vente/maisons-a-vendre/essen-2910/villa-3-chambres-1762b2a7-c112-ade4-3488-f825db8d6f21.html   \n",
       "23596                                                            https://www.immoweb.be/fr/annonce/triplex/a-vendre/essen/2910/9114772   \n",
       "25676                                                        https://www.immoweb.be/fr/annonce/appartement/a-vendre/essen/2910/9236086   \n",
       "\n",
       "              Source  Locality Type of property Subtype of property     Price  \\\n",
       "2871   logic-immo.be      2910        apartment              duplex  314999.0   \n",
       "13172  logic-immo.be      2910            house                 NaN       NaN   \n",
       "13173  logic-immo.be      2910            house               villa  494999.0   \n",
       "23596        immoweb      2910        apartment             triplex  315000.0   \n",
       "25676        immoweb      2910        apartment                 NaN  189000.0   \n",
       "\n",
       "       Type of sale  Number of rooms   Area  ...  Terrace Area  Garden  \\\n",
       "2871   regular sale              3.0  206.0  ...          20.0     1.0   \n",
       "13172  regular sale              NaN    NaN  ...           NaN     0.0   \n",
       "13173  regular sale              3.0  240.0  ...           NaN     1.0   \n",
       "23596  regular sale              4.0  206.0  ...          12.0     1.0   \n",
       "25676  regular sale              2.0   88.0  ...          10.0     0.0   \n",
       "\n",
       "       Garden Area  Surface of the land  Surface area of the plot of land  \\\n",
       "2871         340.0                340.0                             340.0   \n",
       "13172          NaN                  NaN                               NaN   \n",
       "13173        700.0                927.0                             927.0   \n",
       "23596        340.0                  NaN                               NaN   \n",
       "25676          NaN                  NaN                               NaN   \n",
       "\n",
       "       Number of facades  Swimming pool  State of the building  Province  \\\n",
       "2871                 NaN            0.0                    NaN   Antwerp   \n",
       "13172                NaN            0.0                    NaN   Antwerp   \n",
       "13173                NaN            0.0                    NaN   Antwerp   \n",
       "23596                NaN            0.0                   good   Antwerp   \n",
       "25676                2.0            0.0                   good   Antwerp   \n",
       "\n",
       "       Region  \n",
       "2871   Vlaams  \n",
       "13172  Vlaams  \n",
       "13173  Vlaams  \n",
       "23596  Vlaams  \n",
       "25676  Vlaams  \n",
       "\n",
       "[5 rows x 24 columns]"
      ]
     },
     "execution_count": 1,
     "metadata": {},
     "output_type": "execute_result"
    }
   ],
   "source": [
    "import pandas as pd\n",
    "pd.set_option('display.max_colwidth',1000)\n",
    "\n",
    "url = \"https://raw.githubusercontent.com/JulienAlardot/challenge-collecting-data/main/Data/database.csv\"\n",
    "\n",
    "df = pd.read_csv(url)\n",
    "\n",
    "df[df[\"Locality\"] == 2910].head()"
   ]
  },
  {
   "cell_type": "code",
   "execution_count": 2,
   "metadata": {},
   "outputs": [],
   "source": [
    "df = pd.read_csv(\"info_house.csv\")\n",
    "df = df.dropna(subset=[\"property_location_number\"])\n",
    "df[\"property_location_number\"] = df[\"property_location_number\"].astype(int)\n",
    "df[\"address\"] = df[\"property_location_street\"].astype(str) + \" \" + df[\"property_location_number\"].astype(str) + \", \" + df[\"property_location_postalCode\"].astype(str) + \" \" + df[\"property_location_locality\"].astype(str)\n",
    "list_address = df[\"address\"].to_list()\n",
    "df[\"address\"].to_csv(\"address.csv\")"
   ]
  },
  {
   "cell_type": "code",
   "execution_count": 3,
   "metadata": {},
   "outputs": [
    {
     "name": "stdout",
     "output_type": "stream",
     "text": [
      "['Nollekensstraat 18, 2910 Essen', 'Karamelstraat 18, 2910 Essen', 'Deken Verbiststraat 3, 2910 Essen', 'Kraaienberg 40, 2910 Essen', 'Grensstraat 2, 2910 Essen', 'Nieuwstraat 106, 2910 Essen', 'Kerkstraat 66, 2910 Essen', 'Molenstraat 21, 2910 Essen', 'Velodreef 48, 2910 Essen', 'kerkstraat 9, 2910 Essen', 'Sint-Jansstraat 18, 2910 Essen', 'Hendrik Consciencelaan 45, 2910 Essen']\n"
     ]
    }
   ],
   "source": [
    "print(list_address)"
   ]
  },
  {
   "cell_type": "code",
   "execution_count": 4,
   "metadata": {},
   "outputs": [
    {
     "data": {
      "text/plain": [
       "Index(['id', 'property_location_country', 'property_location_region',\n",
       "       'property_location_province', 'property_location_district',\n",
       "       'property_location_locality', 'property_location_postalCode',\n",
       "       'property_location_street', 'property_location_number',\n",
       "       'property_location_latitude', 'property_location_longitude',\n",
       "       'property_type', 'property_subtype', 'property_bedroomCount',\n",
       "       'property_showerRoomCount', 'property_bathroomCount',\n",
       "       'property_netHabitableSurface', 'property_roomCount',\n",
       "       'property_building_condition', 'property_building_constructionYear',\n",
       "       'property_building_facadeCount', 'property_propertyCertificates',\n",
       "       'property_constructionPermit_floodZoneType',\n",
       "       'property_constructionPermit_hasPossiblePriorityPurchaseRight',\n",
       "       'property_constructionPermit_totalBuildableGroundFloorSurface',\n",
       "       'property_energy_heatingType', 'property_energy_hasHeatPump',\n",
       "       'property_energy_hasPhotovoltaicPanels',\n",
       "       'property_energy_hasThermicPanels', 'property_energy_performance',\n",
       "       'property_kitchen_type',\n",
       "       'property_land_hasGasWaterElectricityConnection',\n",
       "       'property_land_surface', 'property_toiletCount',\n",
       "       'property_hasSwimmingPool', 'property_fireplaceExists',\n",
       "       'property_hasTerrace', 'property_terraceSurface',\n",
       "       'property_terraceOrientation', 'transaction_sale_price',\n",
       "       'publication_creationDate', 'transaction_certificates_carbonEmission',\n",
       "       'transaction_certificates_epcScore', 'transaction_sale_cadastralIncome',\n",
       "       'address'],\n",
       "      dtype='object')"
      ]
     },
     "execution_count": 4,
     "metadata": {},
     "output_type": "execute_result"
    }
   ],
   "source": [
    "df.columns"
   ]
  },
  {
   "cell_type": "code",
   "execution_count": 5,
   "metadata": {},
   "outputs": [
    {
     "name": "stdout",
     "output_type": "stream",
     "text": [
      "nan\n"
     ]
    }
   ],
   "source": [
    "df_address = df[df[\"address\"] == 'Nollekensstraat 18, 2910 Essen']\n",
    "test = df_address[\"property_terraceSurface\"].values[0]\n",
    "print(test)"
   ]
  },
  {
   "cell_type": "code",
   "execution_count": 6,
   "metadata": {},
   "outputs": [
    {
     "data": {
      "text/plain": [
       "0        0.0\n",
       "1        0.0\n",
       "2      761.0\n",
       "3     1781.0\n",
       "4      190.0\n",
       "5        NaN\n",
       "6     1250.0\n",
       "7      345.0\n",
       "8      928.0\n",
       "9        NaN\n",
       "12     110.0\n",
       "14     564.0\n",
       "Name: property_land_surface, dtype: float64"
      ]
     },
     "execution_count": 6,
     "metadata": {},
     "output_type": "execute_result"
    }
   ],
   "source": [
    "df[\"property_land_surface\"]"
   ]
  },
  {
   "cell_type": "code",
   "execution_count": 9,
   "metadata": {},
   "outputs": [
    {
     "name": "stdout",
     "output_type": "stream",
     "text": [
      "0\n"
     ]
    }
   ],
   "source": [
    "if isinstance(df_address[\"property_terraceSurface\"].values[0], int):\n",
    "    terrace_area = df_address[\"property_terraceSurface\"].values[0]\n",
    "else:\n",
    "    terrace_area = 0\n",
    "print(terrace_area)"
   ]
  },
  {
   "cell_type": "code",
   "execution_count": 1,
   "metadata": {},
   "outputs": [
    {
     "name": "stdout",
     "output_type": "stream",
     "text": [
      "['154000-238000.tif', '154000-239000.tif', '155000-238000.tif', '155000-239000.tif', '155000-240000.tif', '156000-236000.tif', '156000-239000.tif', '156000-240000.tif', '156000-241000.tif', '157000-240000.tif', '157000-241000.tif', '158000-240000.tif', '159000-240000.tif']\n"
     ]
    }
   ],
   "source": [
    "liste = [['156000-241000.tif', '156000-240000.tif', '157000-241000.tif', '157000-240000.tif'], ['156000-241000.tif', '156000-240000.tif', '157000-241000.tif', '157000-240000.tif'], ['156000-240000.tif', '156000-239000.tif'], ['158000-240000.tif', '159000-240000.tif'], ['156000-241000.tif', '156000-240000.tif'], ['156000-241000.tif', '156000-240000.tif'], ['156000-240000.tif'], ['156000-240000.tif'], ['154000-239000.tif', '154000-238000.tif', '155000-239000.tif', '155000-238000.tif'], ['155000-240000.tif', '155000-239000.tif', '156000-240000.tif', '156000-239000.tif'], ['156000-236000.tif'], ['155000-239000.tif']]\n",
    "liste_int = []\n",
    "for i in liste:\n",
    "    for j in i:\n",
    "        liste_int.append(j)\n",
    "liste_final = set(liste_int)\n",
    "print(sorted(liste_final))"
   ]
  },
  {
   "cell_type": "code",
   "execution_count": 1,
   "metadata": {},
   "outputs": [
    {
     "ename": "TypeError",
     "evalue": "Image data of dtype <U7 cannot be converted to float",
     "output_type": "error",
     "traceback": [
      "\u001b[0;31m---------------------------------------------------------------------------\u001b[0m",
      "\u001b[0;31mTypeError\u001b[0m                                 Traceback (most recent call last)",
      "\u001b[0;32m<ipython-input-1-e3edba2eaa0f>\u001b[0m in \u001b[0;36m<module>\u001b[0;34m\u001b[0m\n\u001b[1;32m      3\u001b[0m \u001b[0mdtm\u001b[0m \u001b[0;34m=\u001b[0m \u001b[0;34m\"chm.tif\"\u001b[0m\u001b[0;34m\u001b[0m\u001b[0;34m\u001b[0m\u001b[0m\n\u001b[1;32m      4\u001b[0m \u001b[0msrc\u001b[0m \u001b[0;34m=\u001b[0m \u001b[0mrasterio\u001b[0m\u001b[0;34m.\u001b[0m\u001b[0mopen\u001b[0m\u001b[0;34m(\u001b[0m\u001b[0mdtm\u001b[0m\u001b[0;34m)\u001b[0m\u001b[0;34m\u001b[0m\u001b[0;34m\u001b[0m\u001b[0m\n\u001b[0;32m----> 5\u001b[0;31m \u001b[0mshow\u001b[0m\u001b[0;34m(\u001b[0m\u001b[0mdtm\u001b[0m\u001b[0;34m)\u001b[0m\u001b[0;34m\u001b[0m\u001b[0;34m\u001b[0m\u001b[0m\n\u001b[0m",
      "\u001b[0;32m~/.virtualenvs/dev-becode/lib/python3.8/site-packages/rasterio/plot.py\u001b[0m in \u001b[0;36mshow\u001b[0;34m(source, with_bounds, contour, contour_label_kws, ax, title, transform, adjust, **kwargs)\u001b[0m\n\u001b[1;32m    145\u001b[0m             \u001b[0max\u001b[0m\u001b[0;34m.\u001b[0m\u001b[0mclabel\u001b[0m\u001b[0;34m(\u001b[0m\u001b[0mC\u001b[0m\u001b[0;34m,\u001b[0m \u001b[0;34m**\u001b[0m\u001b[0mcontour_label_kws\u001b[0m\u001b[0;34m)\u001b[0m\u001b[0;34m\u001b[0m\u001b[0;34m\u001b[0m\u001b[0m\n\u001b[1;32m    146\u001b[0m     \u001b[0;32melse\u001b[0m\u001b[0;34m:\u001b[0m\u001b[0;34m\u001b[0m\u001b[0;34m\u001b[0m\u001b[0m\n\u001b[0;32m--> 147\u001b[0;31m         \u001b[0max\u001b[0m\u001b[0;34m.\u001b[0m\u001b[0mimshow\u001b[0m\u001b[0;34m(\u001b[0m\u001b[0marr\u001b[0m\u001b[0;34m,\u001b[0m \u001b[0;34m**\u001b[0m\u001b[0mkwargs\u001b[0m\u001b[0;34m)\u001b[0m\u001b[0;34m\u001b[0m\u001b[0;34m\u001b[0m\u001b[0m\n\u001b[0m\u001b[1;32m    148\u001b[0m     \u001b[0;32mif\u001b[0m \u001b[0mtitle\u001b[0m\u001b[0;34m:\u001b[0m\u001b[0;34m\u001b[0m\u001b[0;34m\u001b[0m\u001b[0m\n\u001b[1;32m    149\u001b[0m         \u001b[0max\u001b[0m\u001b[0;34m.\u001b[0m\u001b[0mset_title\u001b[0m\u001b[0;34m(\u001b[0m\u001b[0mtitle\u001b[0m\u001b[0;34m,\u001b[0m \u001b[0mfontweight\u001b[0m\u001b[0;34m=\u001b[0m\u001b[0;34m'bold'\u001b[0m\u001b[0;34m)\u001b[0m\u001b[0;34m\u001b[0m\u001b[0;34m\u001b[0m\u001b[0m\n",
      "\u001b[0;32m~/.virtualenvs/dev-becode/lib/python3.8/site-packages/matplotlib/__init__.py\u001b[0m in \u001b[0;36minner\u001b[0;34m(ax, data, *args, **kwargs)\u001b[0m\n\u001b[1;32m   1350\u001b[0m     \u001b[0;32mdef\u001b[0m \u001b[0minner\u001b[0m\u001b[0;34m(\u001b[0m\u001b[0max\u001b[0m\u001b[0;34m,\u001b[0m \u001b[0;34m*\u001b[0m\u001b[0margs\u001b[0m\u001b[0;34m,\u001b[0m \u001b[0mdata\u001b[0m\u001b[0;34m=\u001b[0m\u001b[0;32mNone\u001b[0m\u001b[0;34m,\u001b[0m \u001b[0;34m**\u001b[0m\u001b[0mkwargs\u001b[0m\u001b[0;34m)\u001b[0m\u001b[0;34m:\u001b[0m\u001b[0;34m\u001b[0m\u001b[0;34m\u001b[0m\u001b[0m\n\u001b[1;32m   1351\u001b[0m         \u001b[0;32mif\u001b[0m \u001b[0mdata\u001b[0m \u001b[0;32mis\u001b[0m \u001b[0;32mNone\u001b[0m\u001b[0;34m:\u001b[0m\u001b[0;34m\u001b[0m\u001b[0;34m\u001b[0m\u001b[0m\n\u001b[0;32m-> 1352\u001b[0;31m             \u001b[0;32mreturn\u001b[0m \u001b[0mfunc\u001b[0m\u001b[0;34m(\u001b[0m\u001b[0max\u001b[0m\u001b[0;34m,\u001b[0m \u001b[0;34m*\u001b[0m\u001b[0mmap\u001b[0m\u001b[0;34m(\u001b[0m\u001b[0msanitize_sequence\u001b[0m\u001b[0;34m,\u001b[0m \u001b[0margs\u001b[0m\u001b[0;34m)\u001b[0m\u001b[0;34m,\u001b[0m \u001b[0;34m**\u001b[0m\u001b[0mkwargs\u001b[0m\u001b[0;34m)\u001b[0m\u001b[0;34m\u001b[0m\u001b[0;34m\u001b[0m\u001b[0m\n\u001b[0m\u001b[1;32m   1353\u001b[0m \u001b[0;34m\u001b[0m\u001b[0m\n\u001b[1;32m   1354\u001b[0m         \u001b[0mbound\u001b[0m \u001b[0;34m=\u001b[0m \u001b[0mnew_sig\u001b[0m\u001b[0;34m.\u001b[0m\u001b[0mbind\u001b[0m\u001b[0;34m(\u001b[0m\u001b[0max\u001b[0m\u001b[0;34m,\u001b[0m \u001b[0;34m*\u001b[0m\u001b[0margs\u001b[0m\u001b[0;34m,\u001b[0m \u001b[0;34m**\u001b[0m\u001b[0mkwargs\u001b[0m\u001b[0;34m)\u001b[0m\u001b[0;34m\u001b[0m\u001b[0;34m\u001b[0m\u001b[0m\n",
      "\u001b[0;32m~/.virtualenvs/dev-becode/lib/python3.8/site-packages/matplotlib/axes/_axes.py\u001b[0m in \u001b[0;36mimshow\u001b[0;34m(self, X, cmap, norm, aspect, interpolation, alpha, vmin, vmax, origin, extent, filternorm, filterrad, resample, url, **kwargs)\u001b[0m\n\u001b[1;32m   5587\u001b[0m                               resample=resample, **kwargs)\n\u001b[1;32m   5588\u001b[0m \u001b[0;34m\u001b[0m\u001b[0m\n\u001b[0;32m-> 5589\u001b[0;31m         \u001b[0mim\u001b[0m\u001b[0;34m.\u001b[0m\u001b[0mset_data\u001b[0m\u001b[0;34m(\u001b[0m\u001b[0mX\u001b[0m\u001b[0;34m)\u001b[0m\u001b[0;34m\u001b[0m\u001b[0;34m\u001b[0m\u001b[0m\n\u001b[0m\u001b[1;32m   5590\u001b[0m         \u001b[0mim\u001b[0m\u001b[0;34m.\u001b[0m\u001b[0mset_alpha\u001b[0m\u001b[0;34m(\u001b[0m\u001b[0malpha\u001b[0m\u001b[0;34m)\u001b[0m\u001b[0;34m\u001b[0m\u001b[0;34m\u001b[0m\u001b[0m\n\u001b[1;32m   5591\u001b[0m         \u001b[0;32mif\u001b[0m \u001b[0mim\u001b[0m\u001b[0;34m.\u001b[0m\u001b[0mget_clip_path\u001b[0m\u001b[0;34m(\u001b[0m\u001b[0;34m)\u001b[0m \u001b[0;32mis\u001b[0m \u001b[0;32mNone\u001b[0m\u001b[0;34m:\u001b[0m\u001b[0;34m\u001b[0m\u001b[0;34m\u001b[0m\u001b[0m\n",
      "\u001b[0;32m~/.virtualenvs/dev-becode/lib/python3.8/site-packages/matplotlib/image.py\u001b[0m in \u001b[0;36mset_data\u001b[0;34m(self, A)\u001b[0m\n\u001b[1;32m    698\u001b[0m         if (self._A.dtype != np.uint8 and\n\u001b[1;32m    699\u001b[0m                 not np.can_cast(self._A.dtype, float, \"same_kind\")):\n\u001b[0;32m--> 700\u001b[0;31m             raise TypeError(\"Image data of dtype {} cannot be converted to \"\n\u001b[0m\u001b[1;32m    701\u001b[0m                             \"float\".format(self._A.dtype))\n\u001b[1;32m    702\u001b[0m \u001b[0;34m\u001b[0m\u001b[0m\n",
      "\u001b[0;31mTypeError\u001b[0m: Image data of dtype <U7 cannot be converted to float"
     ]
    },
    {
     "data": {
      "image/png": "[encoded data removed]",
      "text/plain": [
       "<Figure size 432x288 with 1 Axes>"
      ]
     },
     "metadata": {
      "needs_background": "light"
     },
     "output_type": "display_data"
    }
   ],
   "source": [
    "import rasterio\n",
    "from rasterio.plot import show\n",
    "dtm = \"chm.tif\"\n",
    "src = rasterio.open(dtm)\n",
    "show(dtm)"
   ]
  }
 ],
 "metadata": {
  "interpreter": {
   "hash": "f3ed759d09bb9815abaab617d9431de433c0be0de2b9701c8b4019cb696b6853"
  },
  "kernelspec": {
   "display_name": "Python 3.8.10 64-bit ('dev-becode': virtualenvwrapper)",
   "name": "python3"
  },
  "language_info": {
   "codemirror_mode": {
    "name": "ipython",
    "version": 3
   },
   "file_extension": ".py",
   "mimetype": "text/x-python",
   "name": "python",
   "nbconvert_exporter": "python",
   "pygments_lexer": "ipython3",
   "version": "3.8.10"
  },
  "orig_nbformat": 4
 },
 "nbformat": 4,
 "nbformat_minor": 2
}